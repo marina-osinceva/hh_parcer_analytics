{
 "cells": [
  {
   "cell_type": "code",
   "execution_count": 117,
   "id": "c7adcff6",
   "metadata": {},
   "outputs": [],
   "source": [
    "#импортируем библиотеки\n",
    "\n",
    "import requests\n",
    "import json\n",
    "import time\n",
    "import os\n",
    "import pandas as pd\n",
    "import re\n",
    "import seaborn as sns\n",
    "import matplotlib.pyplot as plt"
   ]
  },
  {
   "cell_type": "code",
   "execution_count": 3,
   "id": "92064264",
   "metadata": {},
   "outputs": [],
   "source": [
    "#создаем функцию для получения данных со страницы поиска hh c заданными парметрами\n",
    "#в имени вакансии есть слово \"аналитик\", г. Екатеринбург, 100 вакансий на странице\n",
    "\n",
    "def get_page(page=0):\n",
    "    param = {'text':'NAME:Аналитик', 'area':3, 'page': page, 'per_page':100}\n",
    "    r = requests.get('https://api.hh.ru/vacancies/', params=param)\n",
    "    return r.text"
   ]
  },
  {
   "cell_type": "code",
   "execution_count": 114,
   "id": "9f723511",
   "metadata": {},
   "outputs": [],
   "source": [
    "#считываем первые 2000 вакансий\n",
    "\n",
    "for page in range(20):\n",
    "    vac_page = json.loads(get_page(page))\n",
    "#если вакансий меньше, чем 2000-остановить цикл \n",
    "    if vac_page['pages'] - page <= 1: \n",
    "        break\n",
    "#записываем даннные со страницы поиска hh в файл\n",
    "    file_name = 'analytics_vacancies_page_{}.json'\n",
    "    file_name = file_name.format(page+1)\n",
    "    with open(file_name, 'a', encoding='utf-8') as file:\n",
    "        file.write(json.dumps(vac_page, ensure_ascii=False))"
   ]
  },
  {
   "cell_type": "code",
   "execution_count": 115,
   "id": "951af6e0",
   "metadata": {},
   "outputs": [],
   "source": [
    "#достаем url-адрес вакансии из файла поисковой выдачи, на каждой странице\n",
    "#обращаемся к API по ссылке и получаем детальную информацию по каждой вакансии\n",
    "#записываем данные вакансии в файл\n",
    "\n",
    "for file in os.listdir('C:\\\\Users\\\\osinc\\\\hh_vacs\\\\vacs_pages'):\n",
    "    with open('C:\\\\Users\\\\osinc\\\\hh_vacs\\\\vacs_pages\\\\{}'.format(file), 'r', encoding='utf-8') as page:\n",
    "        page_read = page.read()\n",
    "    pages_json = json.loads(page_read)\n",
    "    for vac in pages_json['items']:\n",
    "        r = requests.get(vac['url'])\n",
    "        if r.status_code == 200:\n",
    "            file_name = 'analytics_vacancies_{}.json'\n",
    "            file_name = file_name.format(vac['id'])\n",
    "            with open(file_name, 'a', encoding='utf-8') as file:\n",
    "                file.write(json.dumps(json.loads(r.text), ensure_ascii=False))\n",
    "    time.sleep(0.25)"
   ]
  },
  {
   "cell_type": "code",
   "execution_count": 75,
   "id": "3b09344f",
   "metadata": {},
   "outputs": [],
   "source": [
    "#вытаскиваем данные вакансии в список\n",
    "\n",
    "ID = [] #id вакансии\n",
    "names = [] #имя вакансии\n",
    "descriptions = [] #описание вакансии\n",
    "salary = []\n",
    "skills_vac = [] #id вакансии\n",
    "skills_name = [] #требуемые скилы вакансии\n",
    "for file in os.listdir('C:\\\\Users\\\\osinc\\\\hh_vacs\\\\all_vacs'):\n",
    "    with open('C:\\\\Users\\\\osinc\\\\hh_vacs\\\\all_vacs\\\\{}'.format(file), 'r', encoding='utf-8') as vacs:\n",
    "        vacs_read = vacs.read()\n",
    "    vacs_json = json.loads(vacs_read)\n",
    "    ID.append(vacs_json['id'])\n",
    "    names.append(vacs_json['name'])\n",
    "    salary.append(vacs_json['salary'])\n",
    "    descriptions.append(vacs_json['description'])\n",
    "    for skill in vacs_json['key_skills']:\n",
    "        skills_vac.append(vacs_json['id'])\n",
    "        skills_name.append(skill['name'])"
   ]
  },
  {
   "cell_type": "code",
   "execution_count": 108,
   "id": "f97b4dd8",
   "metadata": {},
   "outputs": [],
   "source": [
    "#очищаем описание вакансии от html тегов\n",
    "descriptions = list(map(lambda x:re.sub(r\"<[^>]+>\", \"\",x, flags=re.S), descriptions))"
   ]
  },
  {
   "cell_type": "code",
   "execution_count": 101,
   "id": "b89ba2ae",
   "metadata": {},
   "outputs": [],
   "source": [
    "# приводим данные о зарплате в нужный нам вид\n",
    "def salary_return(salary):\n",
    "    if salary is not None:\n",
    "        if salary['from'] is None:\n",
    "            return salary['to']\n",
    "        else:\n",
    "            return salary['from']\n",
    "    else:\n",
    "        return 'Не указана'\n",
    "salary = list(map(salary_return,salary))"
   ]
  },
  {
   "cell_type": "code",
   "execution_count": 110,
   "id": "af42791e",
   "metadata": {},
   "outputs": [],
   "source": [
    "#создаем датафрейм с вакансиями\n",
    "\n",
    "vacancies = pd.DataFrame({'vacancie_id': ID, 'name': names, 'salary': salary , 'description': descriptions})"
   ]
  },
  {
   "cell_type": "code",
   "execution_count": 158,
   "id": "948aec0a",
   "metadata": {},
   "outputs": [],
   "source": [
    "#создаем датафрейм со скилами вакансии\n",
    "\n",
    "skills = pd.DataFrame({'vacancie_id': skills_vac, 'skill': skills_name})"
   ]
  },
  {
   "cell_type": "code",
   "execution_count": 169,
   "id": "5a98a3e0",
   "metadata": {},
   "outputs": [],
   "source": [
    "# cохраним файл с описанием вакасий в сsv\n",
    "vacancies.to_csv('vacancies.csv',index=False)"
   ]
  },
  {
   "cell_type": "code",
   "execution_count": 112,
   "id": "9e672617",
   "metadata": {},
   "outputs": [
    {
     "data": {
      "text/html": [
       "<div>\n",
       "<style scoped>\n",
       "    .dataframe tbody tr th:only-of-type {\n",
       "        vertical-align: middle;\n",
       "    }\n",
       "\n",
       "    .dataframe tbody tr th {\n",
       "        vertical-align: top;\n",
       "    }\n",
       "\n",
       "    .dataframe thead th {\n",
       "        text-align: right;\n",
       "    }\n",
       "</style>\n",
       "<table border=\"1\" class=\"dataframe\">\n",
       "  <thead>\n",
       "    <tr style=\"text-align: right;\">\n",
       "      <th></th>\n",
       "      <th>vacancie_id</th>\n",
       "      <th>name</th>\n",
       "      <th>salary</th>\n",
       "      <th>description</th>\n",
       "    </tr>\n",
       "  </thead>\n",
       "  <tbody>\n",
       "    <tr>\n",
       "      <th>0</th>\n",
       "      <td>52410283</td>\n",
       "      <td>Аналитик 1С в департамент корпоративных проектов</td>\n",
       "      <td>Не указана</td>\n",
       "      <td>Диалог ИТ – ведущий системный интегратор в обл...</td>\n",
       "    </tr>\n",
       "    <tr>\n",
       "      <th>1</th>\n",
       "      <td>76857371</td>\n",
       "      <td>Экономист аналитик (жд транспорт)</td>\n",
       "      <td>60000</td>\n",
       "      <td>Работа в УГПХ - это работа в крупной развивающ...</td>\n",
       "    </tr>\n",
       "    <tr>\n",
       "      <th>2</th>\n",
       "      <td>77195491</td>\n",
       "      <td>Аналитик 1C:ЗУП</td>\n",
       "      <td>Не указана</td>\n",
       "      <td>Мы – команда службы поддержки 1С. Мы работаем ...</td>\n",
       "    </tr>\n",
       "    <tr>\n",
       "      <th>3</th>\n",
       "      <td>78253081</td>\n",
       "      <td>Аналитик баз данных</td>\n",
       "      <td>50250</td>\n",
       "      <td>Обязанности:   - Выгрузка массивов данных из 1...</td>\n",
       "    </tr>\n",
       "    <tr>\n",
       "      <th>4</th>\n",
       "      <td>79192941</td>\n",
       "      <td>Маркетолог-аналитик данных фармотрасли</td>\n",
       "      <td>80000</td>\n",
       "      <td>Уралбиофарм - одно из крупнейших фармацевтичес...</td>\n",
       "    </tr>\n",
       "  </tbody>\n",
       "</table>\n",
       "</div>"
      ],
      "text/plain": [
       "  vacancie_id                                              name      salary  \\\n",
       "0    52410283  Аналитик 1С в департамент корпоративных проектов  Не указана   \n",
       "1    76857371                 Экономист аналитик (жд транспорт)       60000   \n",
       "2    77195491                                   Аналитик 1C:ЗУП  Не указана   \n",
       "3    78253081                               Аналитик баз данных       50250   \n",
       "4    79192941            Маркетолог-аналитик данных фармотрасли       80000   \n",
       "\n",
       "                                         description  \n",
       "0  Диалог ИТ – ведущий системный интегратор в обл...  \n",
       "1  Работа в УГПХ - это работа в крупной развивающ...  \n",
       "2  Мы – команда службы поддержки 1С. Мы работаем ...  \n",
       "3  Обязанности:   - Выгрузка массивов данных из 1...  \n",
       "4  Уралбиофарм - одно из крупнейших фармацевтичес...  "
      ]
     },
     "execution_count": 112,
     "metadata": {},
     "output_type": "execute_result"
    }
   ],
   "source": [
    "vacancies.head()"
   ]
  },
  {
   "cell_type": "code",
   "execution_count": 116,
   "id": "2e4a750e",
   "metadata": {},
   "outputs": [
    {
     "data": {
      "text/html": [
       "<div>\n",
       "<style scoped>\n",
       "    .dataframe tbody tr th:only-of-type {\n",
       "        vertical-align: middle;\n",
       "    }\n",
       "\n",
       "    .dataframe tbody tr th {\n",
       "        vertical-align: top;\n",
       "    }\n",
       "\n",
       "    .dataframe thead th {\n",
       "        text-align: right;\n",
       "    }\n",
       "</style>\n",
       "<table border=\"1\" class=\"dataframe\">\n",
       "  <thead>\n",
       "    <tr style=\"text-align: right;\">\n",
       "      <th></th>\n",
       "      <th>vacancie_id</th>\n",
       "      <th>skill</th>\n",
       "    </tr>\n",
       "  </thead>\n",
       "  <tbody>\n",
       "    <tr>\n",
       "      <th>0</th>\n",
       "      <td>77195491</td>\n",
       "      <td>1С: Зарплата и управление персоналом</td>\n",
       "    </tr>\n",
       "    <tr>\n",
       "      <th>1</th>\n",
       "      <td>77195491</td>\n",
       "      <td>Разработка технических заданий</td>\n",
       "    </tr>\n",
       "    <tr>\n",
       "      <th>2</th>\n",
       "      <td>77195491</td>\n",
       "      <td>Постановка задач разработчикам</td>\n",
       "    </tr>\n",
       "    <tr>\n",
       "      <th>3</th>\n",
       "      <td>77195491</td>\n",
       "      <td>Разработка инструкций</td>\n",
       "    </tr>\n",
       "    <tr>\n",
       "      <th>4</th>\n",
       "      <td>77195491</td>\n",
       "      <td>MS Visio</td>\n",
       "    </tr>\n",
       "  </tbody>\n",
       "</table>\n",
       "</div>"
      ],
      "text/plain": [
       "  vacancie_id                                 skill\n",
       "0    77195491  1С: Зарплата и управление персоналом\n",
       "1    77195491        Разработка технических заданий\n",
       "2    77195491        Постановка задач разработчикам\n",
       "3    77195491                 Разработка инструкций\n",
       "4    77195491                              MS Visio"
      ]
     },
     "execution_count": 116,
     "metadata": {},
     "output_type": "execute_result"
    }
   ],
   "source": [
    "skills.head()"
   ]
  },
  {
   "cell_type": "code",
   "execution_count": 130,
   "id": "8405c617",
   "metadata": {},
   "outputs": [],
   "source": [
    "#распределение зарплат\n",
    "vacancies_salary = vacancies.salary.value_counts().reset_index().rename(columns={'index':'salary', 'salary':'count'})"
   ]
  },
  {
   "cell_type": "code",
   "execution_count": 149,
   "id": "82f7c9cd",
   "metadata": {},
   "outputs": [
    {
     "name": "stdout",
     "output_type": "stream",
     "text": [
      "Минимальная зарплата 30000 \n",
      "Максимальная зарплата 250000 \n",
      "Медианная зарплата 76080.0\n"
     ]
    }
   ],
   "source": [
    "#выводим данные о зарплатах\n",
    "\n",
    "min_salary = vacancies_salary.query('salary != \"Не указана\"').salary.min()\n",
    "max_salary = vacancies_salary.query('salary != \"Не указана\"').salary.max()\n",
    "median_salary = vacancies_salary.query('salary != \"Не указана\"').salary.median()\n",
    "print(f'Минимальная зарплата {min_salary} \\nМаксимальная зарплата {max_salary} \\nМедианная зарплата {median_salary}')"
   ]
  },
  {
   "cell_type": "code",
   "execution_count": 156,
   "id": "9b603b32",
   "metadata": {},
   "outputs": [
    {
     "data": {
      "text/plain": [
       "<Axes: xlabel='salary', ylabel='count'>"
      ]
     },
     "execution_count": 156,
     "metadata": {},
     "output_type": "execute_result"
    },
    {
     "data": {
      "image/png": "[encoded data removed]",
      "text/plain": [
       "<Figure size 2000x1200 with 1 Axes>"
      ]
     },
     "metadata": {},
     "output_type": "display_data"
    }
   ],
   "source": [
    "#построим график распределения зарплат на кол-во вакансий\n",
    "\n",
    "plt.figure(figsize=(20, 12))\n",
    "sns.barplot(vacancies_salary.query('salary != \"Не указана\"'), x='salary', y='count')"
   ]
  },
  {
   "cell_type": "code",
   "execution_count": 165,
   "id": "28a964f5",
   "metadata": {},
   "outputs": [],
   "source": [
    "#сформируем топ-15 необходимых навыков\n",
    "\n",
    "top_15_skills = skills.skill.value_counts().head(15).reset_index().rename(columns={'index':'skill', 'skill':'count'})"
   ]
  },
  {
   "cell_type": "code",
   "execution_count": 167,
   "id": "584600bb",
   "metadata": {},
   "outputs": [
    {
     "data": {
      "text/plain": [
       "<Axes: xlabel='count', ylabel='skill'>"
      ]
     },
     "execution_count": 167,
     "metadata": {},
     "output_type": "execute_result"
    },
    {
     "data": {
      "image/png": "[encoded data removed]",
      "text/plain": [
       "<Figure size 640x480 with 1 Axes>"
      ]
     },
     "metadata": {},
     "output_type": "display_data"
    }
   ],
   "source": [
    "#топ-15 необходимых навыков\n",
    "\n",
    "sns.barplot(top_15_skills, x='count',y='skill')"
   ]
  },
  {
   "cell_type": "code",
   "execution_count": null,
   "id": "02340a2c",
   "metadata": {},
   "outputs": [],
   "source": []
  }
 ],
 "metadata": {
  "kernelspec": {
   "display_name": "Python 3 (ipykernel)",
   "language": "python",
   "name": "python3"
  },
  "language_info": {
   "codemirror_mode": {
    "name": "ipython",
    "version": 3
   },
   "file_extension": ".py",
   "mimetype": "text/x-python",
   "name": "python",
   "nbconvert_exporter": "python",
   "pygments_lexer": "ipython3",
   "version": "3.11.3"
  }
 },
 "nbformat": 4,
 "nbformat_minor": 5
}
